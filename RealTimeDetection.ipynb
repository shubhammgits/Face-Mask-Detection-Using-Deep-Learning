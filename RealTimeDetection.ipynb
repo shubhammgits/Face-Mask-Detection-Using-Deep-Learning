{
 "cells": [
  {
   "cell_type": "code",
   "execution_count": null,
   "metadata": {
    "id": "8Hiq-qVeS4Gg"
   },
   "outputs": [],
   "source": [
    "from google.colab import drive\n",
    "drive.mount('/content/drive')"
   ]
  },
  {
   "cell_type": "code",
   "execution_count": null,
   "metadata": {
    "id": "tPx2yPxuS6bJ"
   },
   "outputs": [],
   "source": [
    "from tensorflow.keras.models import load_model\n",
    "model = load_model('/content/drive/MyDrive/best_mask_model.h5')"
   ]
  },
  {
   "cell_type": "code",
   "execution_count": null,
   "metadata": {
    "id": "Eudnoq-hYh5Q"
   },
   "outputs": [],
   "source": [
    "import cv2\n",
    "import numpy as np\n",
    "import tensorflow as tf\n",
    "from tensorflow import keras\n",
    "import time\n",
    "from IPython.display import display, Javascript\n",
    "from google.colab.output import eval_js\n",
    "from base64 import b64decode\n",
    "from PIL import Image\n",
    "import io\n",
    "import matplotlib.pyplot as plt\n",
    "from google.colab.patches import cv2_imshow"
   ]
  },
  {
   "cell_type": "markdown",
   "metadata": {
    "id": "owLHLeuFaqNC"
   },
   "source": [
    "**Making a real time class detector class for using webcam/device camera, making a frame around the face and predicting the captured image as per the trained model**"
   ]
  },
  {
   "cell_type": "code",
   "execution_count": null,
   "metadata": {
    "id": "cwesM-UZaal3"
   },
   "outputs": [],
   "source": [
    "class RealTimeMaskDetector:\n",
    "\n",
    "    def __init__(self, model_path='/content/drive/MyDrive/best_mask_model.h5'):\n",
    "\n",
    "\n",
    "        print(\"Loading face mask detection model...\")\n",
    "        self.model = keras.models.load_model(model_path)\n",
    "\n",
    "        print(\"Loading face detection classifier...\")\n",
    "        self.face_cascade = cv2.CascadeClassifier(cv2.data.haarcascades + 'haarcascade_frontalface_default.xml')\n",
    "\n",
    "\n",
    "        self.IMG_SIZE = (224, 224)\n",
    "\n",
    "        self.labels = {0: 'WITH MASK', 1: 'WITHOUT MASK'}\n",
    "        self.colors = {0: (0, 255, 0), 1: (0, 0, 255)}\n",
    "\n",
    "        print(\"Mask detector initialized successfully!\")\n",
    "\n",
    "\n",
    "\n",
    "\n",
    "    def detect_and_predict_mask(self, frame):\n",
    "\n",
    "\n",
    "        gray = cv2.cvtColor(frame, cv2.COLOR_BGR2GRAY)\n",
    "        faces = self.face_cascade.detectMultiScale(gray, scaleFactor=1.1, minNeighbors=5, minSize=(60, 60))\n",
    "\n",
    "        locations = []\n",
    "        predictions = []\n",
    "\n",
    "        for (x, y, w, h) in faces:\n",
    "\n",
    "            face_roi = frame[y:y+h, x:x+w]\n",
    "            face_rgb = cv2.cvtColor(face_roi, cv2.COLOR_BGR2RGB)\n",
    "            face_resized = cv2.resize(face_rgb, self.IMG_SIZE)\n",
    "            face_normalized = face_resized / 255.0\n",
    "            face_reshaped = np.expand_dims(face_normalized, axis=0)\n",
    "\n",
    "\n",
    "            prediction = self.model.predict(face_reshaped, verbose=0)[0][0]\n",
    "            locations.append((x, y, w, h))\n",
    "            predictions.append(prediction)\n",
    "\n",
    "        return locations, predictions\n",
    "\n",
    "\n",
    "\n",
    "\n",
    "    def draw_predictions(self, frame, locations, predictions):\n",
    "\n",
    "        for (x, y, w, h), pred in zip(locations, predictions):\n",
    "\n",
    "            label_idx = 1 if pred > 0.5 else 0\n",
    "            label = self.labels[label_idx]\n",
    "            color = self.colors[label_idx]\n",
    "            confidence = pred if pred > 0.5 else 1 - pred\n",
    "\n",
    "            cv2.rectangle(frame, (x, y), (x+w, y+h), color, 2)\n",
    "            text = f\"{label}: {confidence:.2%}\"\n",
    "            text_size = cv2.getTextSize(text, cv2.FONT_HERSHEY_SIMPLEX, 0.6, 2)[0]\n",
    "            text_x = x\n",
    "            text_y = y - 10 if y - 10 > 10 else y + h + 20\n",
    "\n",
    "\n",
    "            cv2.rectangle(frame,\n",
    "                         (text_x, text_y - text_size[1] - 4), (text_x + text_size[0], text_y + 4),color, -1)\n",
    "\n",
    "            cv2.putText(frame, text, (text_x, text_y), cv2.FONT_HERSHEY_SIMPLEX, 0.6, (255, 255, 255), 2)\n",
    "\n",
    "        return frame\n",
    "\n",
    "\n",
    "\n",
    "\n",
    "    def run_webcam_detection(self):\n",
    "\n",
    "        print(\"Starting webcam...\")\n",
    "        cap = cv2.VideoCapture(0)\n",
    "\n",
    "        if not cap.isOpened():\n",
    "            print(\"Failed to open webcam\")\n",
    "            return\n",
    "        cap.set(cv2.CAP_PROP_FRAME_WIDTH, 640)\n",
    "        cap.set(cv2.CAP_PROP_FRAME_HEIGHT, 480)\n",
    "\n",
    "        print(\"Press 'q' to quit\")\n",
    "        print(\"Press 's' to save current frame\")\n",
    "\n",
    "        frame_count = 0\n",
    "        fps_start_time = time.time()\n",
    "        fps = 0\n",
    "\n",
    "        while True:\n",
    "            ret, frame = cap.read()\n",
    "            if not ret:\n",
    "                print(\"Failed to grab frame\")\n",
    "                break\n",
    "\n",
    "            frame_count += 1\n",
    "            if frame_count % 30 == 0:\n",
    "                fps_end_time = time.time()\n",
    "                fps = 30 / (fps_end_time - fps_start_time)\n",
    "                fps_start_time = fps_end_time\n",
    "\n",
    "\n",
    "\n",
    "            locations, predictions = self.detect_and_predict_mask(frame)\n",
    "\n",
    "\n",
    "            frame = self.draw_predictions(frame, locations, predictions)\n",
    "\n",
    "            cv2.putText(frame, f\"FPS: {fps:.2f}\", (10, 30), cv2.FONT_HERSHEY_SIMPLEX, 0.7, (0, 255, 0), 2)\n",
    "            cv2.putText(frame, f\"Faces: {len(locations)}\", (10, 60), cv2.FONT_HERSHEY_SIMPLEX, 0.7, (0, 255, 0), 2)\n",
    "            cv2.imshow('Face Mask Detection', frame)\n",
    "\n",
    "\n",
    "            key = cv2.waitKey(1) & 0xFF\n",
    "            if key == ord('q'):\n",
    "                break\n",
    "            elif key == ord('s'):\n",
    "                # Save current frame\n",
    "                timestamp = time.strftime(\"%Y%m%d_%H%M%S\")\n",
    "                filename = f\"mask_detection_{timestamp}.jpg\"\n",
    "                cv2.imwrite(filename, frame)\n",
    "                print(f\"Frame saved as {filename}\")\n",
    "\n",
    "        cap.release()\n",
    "        cv2.destroyAllWindows()\n",
    "        print(\"Webcam stopped\")\n"
   ]
  },
  {
   "cell_type": "markdown",
   "metadata": {
    "id": "hIDtx2TfagtR"
   },
   "source": [
    "**Allowing google colab to access the camera and capture the pictures**"
   ]
  },
  {
   "cell_type": "code",
   "execution_count": null,
   "metadata": {
    "id": "M_K5KQpqbPWM"
   },
   "outputs": [],
   "source": [
    "def take_photo_colab(filename='photo.jpg', quality=0.8):\n",
    "\n",
    "    js = Javascript('''\n",
    "        async function takePhoto(quality) {\n",
    "            const div = document.createElement('div');\n",
    "            const capture = document.createElement('button');\n",
    "            capture.textContent = 'Capture';\n",
    "            const video = document.createElement('video');\n",
    "            video.style.display = 'block';\n",
    "            video.width = 640;\n",
    "            video.height = 480;\n",
    "            video.autoplay = true;\n",
    "\n",
    "            const stream = await navigator.mediaDevices.getUserMedia({video: true});\n",
    "            document.body.appendChild(div);\n",
    "            div.appendChild(video);\n",
    "            div.appendChild(capture);\n",
    "            video.srcObject = stream;\n",
    "\n",
    "            await new Promise((resolve) => capture.onclick = resolve);\n",
    "\n",
    "            const canvas = document.createElement('canvas');\n",
    "            canvas.width = video.videoWidth;\n",
    "            canvas.height = video.videoHeight;\n",
    "            canvas.getContext('2d').drawImage(video, 0, 0);\n",
    "            stream.getVideoTracks()[0].stop();\n",
    "            div.remove();\n",
    "\n",
    "            return canvas.toDataURL('image/jpeg', quality);\n",
    "        }\n",
    "        ''')\n",
    "\n",
    "    display(js)\n",
    "    data = eval_js('takePhoto({})'.format(quality))\n",
    "    binary = b64decode(data.split(',')[1])\n",
    "\n",
    "    with open(filename, 'wb') as f:\n",
    "        f.write(binary)\n",
    "\n",
    "    return filename\n"
   ]
  },
  {
   "cell_type": "markdown",
   "metadata": {
    "id": "nf6W6bJKbidL"
   },
   "source": [
    "**Using the Google Colab Environment**"
   ]
  },
  {
   "cell_type": "code",
   "execution_count": null,
   "metadata": {
    "id": "dT5gc0NncAvU"
   },
   "outputs": [],
   "source": [
    "class ColabMaskDetector(RealTimeMaskDetector):\n",
    "\n",
    "    def capture_and_detect(self, show_image=True):\n",
    "\n",
    "        print(\"Click 'Capture' to take a photo...\")\n",
    "        filename = take_photo_colab('captured_photo.jpg')\n",
    "\n",
    "        image = cv2.imread(filename)\n",
    "\n",
    "        if image is None:\n",
    "            print(\"Failed to capture image\")\n",
    "            return None\n",
    "\n",
    "        locations, predictions = self.detect_and_predict_mask(image)\n",
    "        annotated_image = self.draw_predictions(image.copy(), locations, predictions)\n",
    "\n",
    "        if show_image:\n",
    "            print(f\"\\nDetected {len(locations)} face(s)\")\n",
    "            cv2_imshow(annotated_image)\n",
    "\n",
    "            for i, (loc, pred) in enumerate(zip(locations, predictions)):\n",
    "                label_idx = 1 if pred > 0.5 else 0\n",
    "                label = self.labels[label_idx]\n",
    "                confidence = pred if pred > 0.5 else 1 - pred\n",
    "                print(f\"Face {i+1}: {label} (Confidence: {confidence:.2%})\")\n",
    "\n",
    "        return annotated_image, locations, predictions\n",
    "\n",
    "    def continuous_capture(self, num_captures=5, delay=2):\n",
    "        results = []\n",
    "\n",
    "        for i in range(num_captures):\n",
    "            print(f\"\\n--- Capture {i+1}/{num_captures} ---\")\n",
    "            annotated_image, locations, predictions = self.capture_and_detect()\n",
    "\n",
    "            if annotated_image is not None:\n",
    "                results.append({\n",
    "                    'image': annotated_image,\n",
    "                    'locations': locations,\n",
    "                    'predictions': predictions\n",
    "                })\n",
    "\n",
    "            if i < num_captures - 1:\n",
    "                print(f\"Waiting {delay} seconds before next capture...\")\n",
    "                time.sleep(delay)\n",
    "\n",
    "        return results\n"
   ]
  },
  {
   "cell_type": "markdown",
   "metadata": {
    "id": "tbNayiyMcGAY"
   },
   "source": [
    "**Using the Real Time Face Mask Detection on Google Colab only**"
   ]
  },
  {
   "cell_type": "code",
   "execution_count": null,
   "metadata": {
    "id": "KCuARsEAcmAo"
   },
   "outputs": [],
   "source": [
    "def run_colab_detection():\n",
    "\n",
    "    print(\"=\"*50)\n",
    "    print(\"FACE MASK DETECTION - GOOGLE COLAB\")\n",
    "    print(\"=\"*50)\n",
    "\n",
    "    detector = ColabMaskDetector('/content/drive/MyDrive/best_mask_model.h5')\n",
    "\n",
    "    while True:\n",
    "        print(\"\\nOptions:\")\n",
    "        print(\"1. Capture single photo\")\n",
    "        print(\"2. Capture multiple photos\")\n",
    "        print(\"3. Process uploaded image\")\n",
    "        print(\"4. Exit\")\n",
    "\n",
    "        choice = input(\"\\nEnter your choice (1-5): \")\n",
    "\n",
    "        if choice == '1':\n",
    "            detector.capture_and_detect()\n",
    "\n",
    "        elif choice == '2':\n",
    "            num = int(input(\"Number of captures (default 5): \") or \"5\")\n",
    "            delay = int(input(\"Delay between captures in seconds (default 2): \") or \"2\")\n",
    "            results = detector.continuous_capture(num, delay)\n",
    "            print(f\"\\nCaptured {len(results)} images\")\n",
    "\n",
    "        elif choice == '3':\n",
    "            from google.colab import files\n",
    "            print(\"Upload an image...\")\n",
    "            uploaded = files.upload()\n",
    "            for filename in uploaded.keys():\n",
    "                print(f\"\\nProcessing: {filename}\")\n",
    "                image = cv2.imread(filename)\n",
    "                locations, predictions = detector.detect_and_predict_mask(image)\n",
    "                annotated = detector.draw_predictions(image.copy(), locations, predictions)\n",
    "                cv2_imshow(annotated)\n",
    "\n",
    "        elif choice == '4':\n",
    "            print(\"Exiting...\")\n",
    "            break\n",
    "\n",
    "        else:\n",
    "            print(\"Invalid choice. Please try again.\")\n"
   ]
  },
  {
   "cell_type": "markdown",
   "metadata": {
    "id": "GPoZ0Zc1d0lQ"
   },
   "source": [
    "**Real Time Detection**"
   ]
  },
  {
   "cell_type": "code",
   "execution_count": null,
   "metadata": {},
   "outputs": [],
   "source": [
    "run_colab_detection()"
   ]
  }
 ],
 "metadata": {
  "colab": {
   "authorship_tag": "ABX9TyNcely3tHsFG9kqhxkB0A3A",
   "mount_file_id": "1CZI5Y7KukMSIaBxSnoLbUKtVwoCEv_MV",
   "name": "",
   "version": ""
  },
  "kernelspec": {
   "display_name": "Python 3",
   "name": "python3"
  },
  "language_info": {
   "name": "python"
  }
 },
 "nbformat": 4,
 "nbformat_minor": 0
}
